{
  "nbformat": 4,
  "nbformat_minor": 0,
  "metadata": {
    "colab": {
      "provenance": [],
      "gpuType": "T4"
    },
    "kernelspec": {
      "name": "python3",
      "display_name": "Python 3"
    },
    "language_info": {
      "name": "python"
    },
    "accelerator": "GPU"
  },
  "cells": [
    {
      "cell_type": "markdown",
      "source": [
        "# 1. Install Whisper"
      ],
      "metadata": {
        "id": "gEREE_MrpQr1"
      }
    },
    {
      "cell_type": "code",
      "source": [
        "!pip install git+https://github.com/openai/whisper.git"
      ],
      "metadata": {
        "id": "o7SJADc-nYLY"
      },
      "execution_count": null,
      "outputs": []
    },
    {
      "cell_type": "markdown",
      "source": [
        "# 2a. Install ffmpeg for Whisper and create directories"
      ],
      "metadata": {
        "id": "eA_I2SH3pW05"
      }
    },
    {
      "cell_type": "code",
      "source": [
        "!sudo apt update && sudo apt install ffmpeg && mkdir audio && mkdir videos && mkdir subtitles"
      ],
      "metadata": {
        "id": "JniOCjGEoVL4"
      },
      "execution_count": null,
      "outputs": []
    },
    {
      "cell_type": "markdown",
      "source": [
        "# 2b. (Optional): Install yt-dlp"
      ],
      "metadata": {
        "id": "hvUCyYK5VZhy"
      }
    },
    {
      "cell_type": "code",
      "source": [
        "#!pip install yt-dlp"
      ],
      "metadata": {
        "id": "ix8J9QkZVvos"
      },
      "execution_count": null,
      "outputs": []
    },
    {
      "cell_type": "markdown",
      "source": [
        "# 2c. (Optional): Download audio with yt-dlp (replace the link)\n",
        "\n"
      ],
      "metadata": {
        "id": "PPccKgEXV9GU"
      }
    },
    {
      "cell_type": "code",
      "source": [
        "#!yt-dlp -x \"https://www.nicovideo.jp/watch/sm6846483\" -P \"./audio/\""
      ],
      "metadata": {
        "id": "PtGahJKHWIF1"
      },
      "execution_count": null,
      "outputs": []
    },
    {
      "cell_type": "markdown",
      "source": [
        "# 3. Drag all video files into videos folder, then click button below to extract audio"
      ],
      "metadata": {
        "id": "4o78CCHqxo0D"
      }
    },
    {
      "cell_type": "code",
      "source": [
        "!for filepath in ./videos/*; do ffmpeg -i \"./videos/$(basename \"$filepath\")\" -f mp3 -ab 192000 -vn \"./audio/$(basename \"$filepath\").mp3\"; done"
      ],
      "metadata": {
        "id": "nX28SOWSw15f"
      },
      "execution_count": null,
      "outputs": []
    },
    {
      "cell_type": "markdown",
      "source": [
        "# 4. Use Whisper to extract subtitles from audio"
      ],
      "metadata": {
        "id": "SeuYphE50ihP"
      }
    },
    {
      "cell_type": "code",
      "source": [
        "!for filepath in ./audio/*; do whisper \"./audio/$(basename \"$filepath\")\" --model medium --language=Japanese --output_format srt --output_dir ./subtitles/; done"
      ],
      "metadata": {
        "id": "lz0rsyyh0_hG"
      },
      "execution_count": null,
      "outputs": []
    }
  ]
}